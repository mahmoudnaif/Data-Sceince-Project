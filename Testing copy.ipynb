{
 "cells": [
  {
   "cell_type": "markdown",
   "metadata": {},
   "source": [
    "# Check data as a beganning "
   ]
  },
  {
   "cell_type": "code",
   "execution_count": 1,
   "metadata": {},
   "outputs": [
    {
     "name": "stdout",
     "output_type": "stream",
     "text": [
      "<class 'pandas.core.frame.DataFrame'>\n",
      "RangeIndex: 1710670 entries, 0 to 1710669\n",
      "Data columns (total 9 columns):\n",
      " #   Column        Dtype  \n",
      "---  ------        -----  \n",
      " 0   TRIP_ID       int64  \n",
      " 1   CALL_TYPE     object \n",
      " 2   ORIGIN_CALL   float64\n",
      " 3   ORIGIN_STAND  float64\n",
      " 4   TAXI_ID       int64  \n",
      " 5   TIMESTAMP     int64  \n",
      " 6   DAY_TYPE      object \n",
      " 7   MISSING_DATA  bool   \n",
      " 8   POLYLINE      object \n",
      "dtypes: bool(1), float64(2), int64(3), object(3)\n",
      "memory usage: 106.0+ MB\n"
     ]
    }
   ],
   "source": [
    "import pandas as pd\n",
    "\n",
    "file_path = 'train.csv'\n",
    "\n",
    "df = pd.read_csv(file_path)\n",
    "df.info()"
   ]
  },
  {
   "cell_type": "markdown",
   "metadata": {},
   "source": [
    "# 📊 Dataset Overview: Porto Taxi Trajectories\n",
    "\n",
    "This dataset contains a **full year (01/07/2013 to 30/06/2014)** of taxi trip data from **442 taxis** operating in the city of **Porto, Portugal**. Each row in the dataset represents a **completed trip**, and the dataset includes detailed information about how the trip was requested, the taxi driver, the timestamp, and the GPS trajectory.\n",
    "\n",
    "---\n",
    "\n",
    "## 🔍 Column Descriptions\n",
    "\n",
    "| Column Name     | Type     | Description |\n",
    "|-----------------|----------|-------------|\n",
    "| **TRIP_ID**     | Integer   | A unique identifier for each trip. |\n",
    "| **CALL_TYPE**   | Char     | Describes how the trip was requested: <br> - `'A'`: Central dispatch (called by customer) <br> - `'B'`: Picked up at a taxi stand <br> - `'C'`: Hailed randomly on the street |\n",
    "| **ORIGIN_CALL** | Integer  | An anonymous ID for the customer who made the call (only present if `CALL_TYPE` = 'A'). `NaN` otherwise. |\n",
    "| **ORIGIN_STAND**| Integer  | ID of the taxi stand where the trip started (only present if `CALL_TYPE` = 'B'). `NaN` otherwise. |\n",
    "| **TAXI_ID**     | Integer  | A unique identifier for the taxi driver who completed the trip. |\n",
    "| **TIMESTAMP**   | Integer  | Unix timestamp representing the start time of the trip (in seconds). Can be converted to human-readable datetime. |\n",
    "| **DAYTYPE**     | Char     | Type of the day when the trip started: <br> - `'A'`: Normal day (workday or weekend) <br> - `'B'`: Holiday or special day <br> - `'C'`: Day before a holiday |\n",
    "| **MISSING_DATA**| Boolean  | `FALSE` means complete GPS data is present, `TRUE` indicates some GPS points are missing. |\n",
    "| **POLYLINE**    | String (List of Lists) | A list of GPS coordinates (longitude, latitude) recorded every 15 seconds during the trip. It shows the complete route taken by the taxi. The length of this list determines the trip duration. |\n",
    "\n",
    "---\n",
    "\n",
    "## 🎯 Prediction Target (for competition)\n",
    "\n",
    "The **total travel time** of a trip is defined as:\n",
    "\n",
    "**Trip Time (seconds)** = (Number of GPS points - 1) × 15\n",
    "\n",
    "\n",
    "\n",
    "---\n",
    "\n",
    "## 💡 Notes\n",
    "- Some fields like `ORIGIN_CALL` and `ORIGIN_STAND` are conditionally null depending on the `CALL_TYPE`.\n",
    "- The `POLYLINE` field contains valuable geo-spatial data but needs to be parsed from a string into a list.\n",
    "- The dataset is useful for tasks like **trip duration prediction**, **route clustering**, and **geo-spatial analysis**.\n",
    "\n"
   ]
  },
  {
   "cell_type": "markdown",
   "metadata": {},
   "source": [
    "# Now let's check for outliters\n",
    "specially focusing on the timestamp"
   ]
  },
  {
   "cell_type": "code",
   "execution_count": 2,
   "metadata": {},
   "outputs": [
    {
     "data": {
      "text/html": [
       "<div>\n",
       "<style scoped>\n",
       "    .dataframe tbody tr th:only-of-type {\n",
       "        vertical-align: middle;\n",
       "    }\n",
       "\n",
       "    .dataframe tbody tr th {\n",
       "        vertical-align: top;\n",
       "    }\n",
       "\n",
       "    .dataframe thead th {\n",
       "        text-align: right;\n",
       "    }\n",
       "</style>\n",
       "<table border=\"1\" class=\"dataframe\">\n",
       "  <thead>\n",
       "    <tr style=\"text-align: right;\">\n",
       "      <th></th>\n",
       "      <th>TRIP_ID</th>\n",
       "      <th>ORIGIN_CALL</th>\n",
       "      <th>ORIGIN_STAND</th>\n",
       "      <th>TAXI_ID</th>\n",
       "      <th>TIMESTAMP</th>\n",
       "    </tr>\n",
       "  </thead>\n",
       "  <tbody>\n",
       "    <tr>\n",
       "      <th>count</th>\n",
       "      <td>1.710670e+06</td>\n",
       "      <td>364770.000000</td>\n",
       "      <td>806579.000000</td>\n",
       "      <td>1.710670e+06</td>\n",
       "      <td>1.710670e+06</td>\n",
       "    </tr>\n",
       "    <tr>\n",
       "      <th>mean</th>\n",
       "      <td>1.388622e+18</td>\n",
       "      <td>24490.363018</td>\n",
       "      <td>30.272381</td>\n",
       "      <td>2.000035e+07</td>\n",
       "      <td>1.388622e+09</td>\n",
       "    </tr>\n",
       "    <tr>\n",
       "      <th>std</th>\n",
       "      <td>9.180944e+15</td>\n",
       "      <td>19624.290043</td>\n",
       "      <td>17.747840</td>\n",
       "      <td>2.112405e+02</td>\n",
       "      <td>9.180944e+06</td>\n",
       "    </tr>\n",
       "    <tr>\n",
       "      <th>min</th>\n",
       "      <td>1.372637e+18</td>\n",
       "      <td>2001.000000</td>\n",
       "      <td>1.000000</td>\n",
       "      <td>2.000000e+07</td>\n",
       "      <td>1.372637e+09</td>\n",
       "    </tr>\n",
       "    <tr>\n",
       "      <th>25%</th>\n",
       "      <td>1.380731e+18</td>\n",
       "      <td>6593.000000</td>\n",
       "      <td>15.000000</td>\n",
       "      <td>2.000017e+07</td>\n",
       "      <td>1.380731e+09</td>\n",
       "    </tr>\n",
       "    <tr>\n",
       "      <th>50%</th>\n",
       "      <td>1.388493e+18</td>\n",
       "      <td>18755.000000</td>\n",
       "      <td>27.000000</td>\n",
       "      <td>2.000034e+07</td>\n",
       "      <td>1.388493e+09</td>\n",
       "    </tr>\n",
       "    <tr>\n",
       "      <th>75%</th>\n",
       "      <td>1.396750e+18</td>\n",
       "      <td>40808.000000</td>\n",
       "      <td>49.000000</td>\n",
       "      <td>2.000052e+07</td>\n",
       "      <td>1.396750e+09</td>\n",
       "    </tr>\n",
       "    <tr>\n",
       "      <th>max</th>\n",
       "      <td>1.404173e+18</td>\n",
       "      <td>63884.000000</td>\n",
       "      <td>63.000000</td>\n",
       "      <td>2.000098e+07</td>\n",
       "      <td>1.404173e+09</td>\n",
       "    </tr>\n",
       "  </tbody>\n",
       "</table>\n",
       "</div>"
      ],
      "text/plain": [
       "            TRIP_ID    ORIGIN_CALL   ORIGIN_STAND       TAXI_ID     TIMESTAMP\n",
       "count  1.710670e+06  364770.000000  806579.000000  1.710670e+06  1.710670e+06\n",
       "mean   1.388622e+18   24490.363018      30.272381  2.000035e+07  1.388622e+09\n",
       "std    9.180944e+15   19624.290043      17.747840  2.112405e+02  9.180944e+06\n",
       "min    1.372637e+18    2001.000000       1.000000  2.000000e+07  1.372637e+09\n",
       "25%    1.380731e+18    6593.000000      15.000000  2.000017e+07  1.380731e+09\n",
       "50%    1.388493e+18   18755.000000      27.000000  2.000034e+07  1.388493e+09\n",
       "75%    1.396750e+18   40808.000000      49.000000  2.000052e+07  1.396750e+09\n",
       "max    1.404173e+18   63884.000000      63.000000  2.000098e+07  1.404173e+09"
      ]
     },
     "execution_count": 2,
     "metadata": {},
     "output_type": "execute_result"
    }
   ],
   "source": [
    "df.describe()"
   ]
  },
  {
   "cell_type": "markdown",
   "metadata": {},
   "source": [
    "there is no anomilies in the timestamp indecating a valid data"
   ]
  },
  {
   "cell_type": "markdown",
   "metadata": {},
   "source": [
    "# Make sure there is no duplicated trips by checking the tripID"
   ]
  },
  {
   "cell_type": "code",
   "execution_count": 3,
   "metadata": {},
   "outputs": [
    {
     "data": {
      "text/plain": [
       "TRIP_ID\n",
       "1397172149620000454    3\n",
       "1402085470620000527    2\n",
       "1389002485620000685    2\n",
       "1393869017620000066    2\n",
       "1389782974620000562    2\n",
       "                      ..\n",
       "1400060661620000080    2\n",
       "1394034338620000328    2\n",
       "1373025987620000601    2\n",
       "1394118360620000066    2\n",
       "1373210896620000598    2\n",
       "Name: count, Length: 80, dtype: int64"
      ]
     },
     "execution_count": 3,
     "metadata": {},
     "output_type": "execute_result"
    }
   ],
   "source": [
    "# pd.set_option('display.max_rows', None)\n",
    "duplicated_trip_ids = df['TRIP_ID'].value_counts()[lambda x: x > 1]\n",
    "duplicated_trip_ids "
   ]
  },
  {
   "cell_type": "markdown",
   "metadata": {},
   "source": [
    "### 🕵️‍♂️ **NAUGHTY VALUES MUST BE PRUNED ASAP** 🤣\n",
    "\n",
    "After observing the previous results, we can clearly see that some trips exist more than once...\n",
    "\n",
    "You have **two options**:\n",
    "\n",
    "1. **Option 1**: Delete only the **later occurrences** of each `TRIP_ID` (keeping the first occurrence).\n",
    "2. **Option 2**: Delete **all duplicated instances**, effectively keeping only unique `TRIP_ID`s."
   ]
  },
  {
   "cell_type": "markdown",
   "metadata": {},
   "source": [
    "# Which option to choose?\n",
    "The idea is to check the other columns of each record to check if they are exactly the same\n",
    "\n",
    "1. if they are the same you can keep one of them\n",
    "2. if they are totally different then I would assume that this data is not accurate nor can be trusted so we will delete it all\n"
   ]
  },
  {
   "cell_type": "code",
   "execution_count": 4,
   "metadata": {},
   "outputs": [
    {
     "data": {
      "text/html": [
       "<div>\n",
       "<style scoped>\n",
       "    .dataframe tbody tr th:only-of-type {\n",
       "        vertical-align: middle;\n",
       "    }\n",
       "\n",
       "    .dataframe tbody tr th {\n",
       "        vertical-align: top;\n",
       "    }\n",
       "\n",
       "    .dataframe thead th {\n",
       "        text-align: right;\n",
       "    }\n",
       "</style>\n",
       "<table border=\"1\" class=\"dataframe\">\n",
       "  <thead>\n",
       "    <tr style=\"text-align: right;\">\n",
       "      <th></th>\n",
       "      <th>TRIP_ID</th>\n",
       "      <th>CALL_TYPE</th>\n",
       "      <th>ORIGIN_CALL</th>\n",
       "      <th>ORIGIN_STAND</th>\n",
       "      <th>TAXI_ID</th>\n",
       "      <th>TIMESTAMP</th>\n",
       "      <th>DAY_TYPE</th>\n",
       "      <th>MISSING_DATA</th>\n",
       "      <th>POLYLINE</th>\n",
       "    </tr>\n",
       "  </thead>\n",
       "  <tbody>\n",
       "    <tr>\n",
       "      <th>3519</th>\n",
       "      <td>1372702836620000080</td>\n",
       "      <td>B</td>\n",
       "      <td>NaN</td>\n",
       "      <td>16.0</td>\n",
       "      <td>20000080</td>\n",
       "      <td>1372702836</td>\n",
       "      <td>A</td>\n",
       "      <td>False</td>\n",
       "      <td>[[-8.635275,41.193729],[-8.634519,41.192901]]</td>\n",
       "    </tr>\n",
       "    <tr>\n",
       "      <th>3720</th>\n",
       "      <td>1372702836620000080</td>\n",
       "      <td>C</td>\n",
       "      <td>NaN</td>\n",
       "      <td>NaN</td>\n",
       "      <td>20000080</td>\n",
       "      <td>1372702836</td>\n",
       "      <td>A</td>\n",
       "      <td>False</td>\n",
       "      <td>[[-8.62776,41.17554],[-8.62776,41.17554],[-8.6...</td>\n",
       "    </tr>\n",
       "    <tr>\n",
       "      <th>21282</th>\n",
       "      <td>1373025987620000601</td>\n",
       "      <td>A</td>\n",
       "      <td>2002.0</td>\n",
       "      <td>NaN</td>\n",
       "      <td>20000601</td>\n",
       "      <td>1373025987</td>\n",
       "      <td>A</td>\n",
       "      <td>False</td>\n",
       "      <td>[]</td>\n",
       "    </tr>\n",
       "    <tr>\n",
       "      <th>21385</th>\n",
       "      <td>1373025987620000601</td>\n",
       "      <td>C</td>\n",
       "      <td>NaN</td>\n",
       "      <td>NaN</td>\n",
       "      <td>20000601</td>\n",
       "      <td>1373025987</td>\n",
       "      <td>A</td>\n",
       "      <td>False</td>\n",
       "      <td>[[-8.604108,41.182569],[-8.604072,41.182605],[...</td>\n",
       "    </tr>\n",
       "    <tr>\n",
       "      <th>33228</th>\n",
       "      <td>1373210896620000598</td>\n",
       "      <td>B</td>\n",
       "      <td>NaN</td>\n",
       "      <td>57.0</td>\n",
       "      <td>20000598</td>\n",
       "      <td>1373210896</td>\n",
       "      <td>A</td>\n",
       "      <td>False</td>\n",
       "      <td>[[-8.610885,41.145525]]</td>\n",
       "    </tr>\n",
       "    <tr>\n",
       "      <th>...</th>\n",
       "      <td>...</td>\n",
       "      <td>...</td>\n",
       "      <td>...</td>\n",
       "      <td>...</td>\n",
       "      <td>...</td>\n",
       "      <td>...</td>\n",
       "      <td>...</td>\n",
       "      <td>...</td>\n",
       "      <td>...</td>\n",
       "    </tr>\n",
       "    <tr>\n",
       "      <th>1665302</th>\n",
       "      <td>1403407180620000242</td>\n",
       "      <td>C</td>\n",
       "      <td>NaN</td>\n",
       "      <td>NaN</td>\n",
       "      <td>20000242</td>\n",
       "      <td>1403407180</td>\n",
       "      <td>A</td>\n",
       "      <td>False</td>\n",
       "      <td>[]</td>\n",
       "    </tr>\n",
       "    <tr>\n",
       "      <th>1684526</th>\n",
       "      <td>1403716904620000337</td>\n",
       "      <td>C</td>\n",
       "      <td>NaN</td>\n",
       "      <td>NaN</td>\n",
       "      <td>20000337</td>\n",
       "      <td>1403716904</td>\n",
       "      <td>A</td>\n",
       "      <td>False</td>\n",
       "      <td>[[-8.654913,41.182821],[-8.656623,41.182317],[...</td>\n",
       "    </tr>\n",
       "    <tr>\n",
       "      <th>1684739</th>\n",
       "      <td>1403716904620000337</td>\n",
       "      <td>C</td>\n",
       "      <td>NaN</td>\n",
       "      <td>NaN</td>\n",
       "      <td>20000337</td>\n",
       "      <td>1403716904</td>\n",
       "      <td>A</td>\n",
       "      <td>False</td>\n",
       "      <td>[[-8.654913,41.182821],[-8.656623,41.182317],[...</td>\n",
       "    </tr>\n",
       "    <tr>\n",
       "      <th>1705646</th>\n",
       "      <td>1404093316620000307</td>\n",
       "      <td>B</td>\n",
       "      <td>NaN</td>\n",
       "      <td>57.0</td>\n",
       "      <td>20000307</td>\n",
       "      <td>1404093316</td>\n",
       "      <td>A</td>\n",
       "      <td>False</td>\n",
       "      <td>[[-8.610831,41.145741]]</td>\n",
       "    </tr>\n",
       "    <tr>\n",
       "      <th>1705665</th>\n",
       "      <td>1404093316620000307</td>\n",
       "      <td>C</td>\n",
       "      <td>NaN</td>\n",
       "      <td>NaN</td>\n",
       "      <td>20000307</td>\n",
       "      <td>1404093316</td>\n",
       "      <td>A</td>\n",
       "      <td>False</td>\n",
       "      <td>[[-8.61084,41.145732]]</td>\n",
       "    </tr>\n",
       "  </tbody>\n",
       "</table>\n",
       "<p>161 rows × 9 columns</p>\n",
       "</div>"
      ],
      "text/plain": [
       "                     TRIP_ID CALL_TYPE  ORIGIN_CALL  ORIGIN_STAND   TAXI_ID  \\\n",
       "3519     1372702836620000080         B          NaN          16.0  20000080   \n",
       "3720     1372702836620000080         C          NaN           NaN  20000080   \n",
       "21282    1373025987620000601         A       2002.0           NaN  20000601   \n",
       "21385    1373025987620000601         C          NaN           NaN  20000601   \n",
       "33228    1373210896620000598         B          NaN          57.0  20000598   \n",
       "...                      ...       ...          ...           ...       ...   \n",
       "1665302  1403407180620000242         C          NaN           NaN  20000242   \n",
       "1684526  1403716904620000337         C          NaN           NaN  20000337   \n",
       "1684739  1403716904620000337         C          NaN           NaN  20000337   \n",
       "1705646  1404093316620000307         B          NaN          57.0  20000307   \n",
       "1705665  1404093316620000307         C          NaN           NaN  20000307   \n",
       "\n",
       "          TIMESTAMP DAY_TYPE  MISSING_DATA  \\\n",
       "3519     1372702836        A         False   \n",
       "3720     1372702836        A         False   \n",
       "21282    1373025987        A         False   \n",
       "21385    1373025987        A         False   \n",
       "33228    1373210896        A         False   \n",
       "...             ...      ...           ...   \n",
       "1665302  1403407180        A         False   \n",
       "1684526  1403716904        A         False   \n",
       "1684739  1403716904        A         False   \n",
       "1705646  1404093316        A         False   \n",
       "1705665  1404093316        A         False   \n",
       "\n",
       "                                                  POLYLINE  \n",
       "3519         [[-8.635275,41.193729],[-8.634519,41.192901]]  \n",
       "3720     [[-8.62776,41.17554],[-8.62776,41.17554],[-8.6...  \n",
       "21282                                                   []  \n",
       "21385    [[-8.604108,41.182569],[-8.604072,41.182605],[...  \n",
       "33228                              [[-8.610885,41.145525]]  \n",
       "...                                                    ...  \n",
       "1665302                                                 []  \n",
       "1684526  [[-8.654913,41.182821],[-8.656623,41.182317],[...  \n",
       "1684739  [[-8.654913,41.182821],[-8.656623,41.182317],[...  \n",
       "1705646                            [[-8.610831,41.145741]]  \n",
       "1705665                             [[-8.61084,41.145732]]  \n",
       "\n",
       "[161 rows x 9 columns]"
      ]
     },
     "execution_count": 4,
     "metadata": {},
     "output_type": "execute_result"
    }
   ],
   "source": [
    "df[df['TRIP_ID'].isin(duplicated_trip_ids.index)]"
   ]
  },
  {
   "cell_type": "markdown",
   "metadata": {},
   "source": [
    "# Prune them all 💣\n",
    "as observed above the data is completely different in each record and they are only 161 record which won't affect our data integrity at all"
   ]
  },
  {
   "cell_type": "code",
   "execution_count": 5,
   "metadata": {},
   "outputs": [
    {
     "data": {
      "text/plain": [
       "Series([], Name: count, dtype: int64)"
      ]
     },
     "execution_count": 5,
     "metadata": {},
     "output_type": "execute_result"
    }
   ],
   "source": [
    "df = df[df['TRIP_ID'].duplicated(keep=False) == False]\n",
    "\n",
    "df['TRIP_ID'].value_counts()[lambda x: x > 1] #Make sure they are deleted\n"
   ]
  },
  {
   "cell_type": "markdown",
   "metadata": {},
   "source": [
    "# TimeStamp\n",
    "time stamp is not human readable nor understandable by a human therefore we must make a new datatime column"
   ]
  },
  {
   "cell_type": "code",
   "execution_count": 6,
   "metadata": {},
   "outputs": [
    {
     "data": {
      "text/plain": [
       "0         2013-07-01 00:00:58\n",
       "1         2013-07-01 00:08:23\n",
       "2         2013-07-01 00:02:31\n",
       "3         2013-07-01 00:00:54\n",
       "4         2013-07-01 00:04:51\n",
       "                  ...        \n",
       "1710665   2014-06-30 23:37:43\n",
       "1710666   2014-06-30 23:36:07\n",
       "1710667   2014-01-03 10:41:56\n",
       "1710668   2014-06-30 15:23:46\n",
       "1710669   2014-06-30 19:39:07\n",
       "Name: datetime, Length: 1710509, dtype: datetime64[ns]"
      ]
     },
     "execution_count": 6,
     "metadata": {},
     "output_type": "execute_result"
    }
   ],
   "source": [
    "df['datetime'] = pd.to_datetime(df['TIMESTAMP'], unit='s')\n",
    "\n",
    "df['datetime']"
   ]
  },
  {
   "cell_type": "markdown",
   "metadata": {},
   "source": [
    "# Mapping Encoded Categories to Descriptive Labels\n",
    "\n",
    "First we make sure that there isn't any anomiies"
   ]
  },
  {
   "cell_type": "code",
   "execution_count": 7,
   "metadata": {},
   "outputs": [
    {
     "data": {
      "text/plain": [
       "array(['C', 'B', 'A'], dtype=object)"
      ]
     },
     "execution_count": 7,
     "metadata": {},
     "output_type": "execute_result"
    }
   ],
   "source": [
    "df['CALL_TYPE'].unique()"
   ]
  },
  {
   "cell_type": "markdown",
   "metadata": {},
   "source": [
    "Now we start the mapping process"
   ]
  },
  {
   "cell_type": "code",
   "execution_count": 8,
   "metadata": {},
   "outputs": [],
   "source": [
    "callTypeMap= {\n",
    "'A' : 'Central',\n",
    "'B' : 'Stand',\n",
    "'C' : 'Street'\n",
    "}\n",
    "\n",
    "df['CALL_TYPE'] = df['CALL_TYPE'].map(callTypeMap)\n"
   ]
  },
  {
   "cell_type": "code",
   "execution_count": 9,
   "metadata": {},
   "outputs": [
    {
     "data": {
      "text/plain": [
       "array(['Street', 'Stand', 'Central'], dtype=object)"
      ]
     },
     "execution_count": 9,
     "metadata": {},
     "output_type": "execute_result"
    }
   ],
   "source": [
    "df['CALL_TYPE'].unique() "
   ]
  },
  {
   "cell_type": "markdown",
   "metadata": {},
   "source": [
    "# Also map the day type so it can be meaningful "
   ]
  },
  {
   "cell_type": "code",
   "execution_count": 10,
   "metadata": {},
   "outputs": [],
   "source": [
    "dayTypeMap={\n",
    "    'A':'Normal', \n",
    "    'B':'Holiday',\n",
    "    'C':'Before_Holiday'\n",
    "}\n",
    "\n",
    "df['DAY_TYPE'] = df['DAY_TYPE'].map(dayTypeMap)"
   ]
  },
  {
   "cell_type": "code",
   "execution_count": 11,
   "metadata": {},
   "outputs": [
    {
     "data": {
      "text/plain": [
       "array(['Normal'], dtype=object)"
      ]
     },
     "execution_count": 11,
     "metadata": {},
     "output_type": "execute_result"
    }
   ],
   "source": [
    "df['DAY_TYPE'].unique()"
   ]
  },
  {
   "cell_type": "markdown",
   "metadata": {},
   "source": [
    "<span style=\"color:red\">Something seems wrong here. Holidays are not classifed at all all days are classfied as NORMAL</span>"
   ]
  },
  {
   "cell_type": "markdown",
   "metadata": {},
   "source": [
    "# Finding a solution to classify the days\n",
    "\n",
    "**there is a library called holidays that can help us with that problem** "
   ]
  },
  {
   "cell_type": "code",
   "execution_count": 12,
   "metadata": {},
   "outputs": [
    {
     "data": {
      "text/plain": [
       "holidays.country_holidays('PT', subdiv='13')"
      ]
     },
     "execution_count": 12,
     "metadata": {},
     "output_type": "execute_result"
    }
   ],
   "source": [
    "import holidays\n",
    "\n",
    "portugalHolidays= holidays.country_holidays('PT',subdiv='13') # Don't forget that this data is only based on the ciry Porto (13) in portugal and that is why we used its holidays specifically\n",
    "\n",
    "portugalHolidays"
   ]
  },
  {
   "cell_type": "markdown",
   "metadata": {},
   "source": [
    "**The function responsible for the parsing**"
   ]
  },
  {
   "cell_type": "code",
   "execution_count": 13,
   "metadata": {},
   "outputs": [],
   "source": [
    "from datetime import timedelta\n",
    "\n",
    "def modifyDayType(r):\n",
    "    if r['datetime'] in portugalHolidays:\n",
    "        r['DAY_TYPE'] = 'Holiday'\n",
    "    elif (r['datetime'] + timedelta(days=1)) in portugalHolidays:\n",
    "        r['DAY_TYPE'] = 'Before_Holiday'\n",
    "    \n",
    "    return r\n",
    "\n",
    "    \n"
   ]
  },
  {
   "cell_type": "markdown",
   "metadata": {},
   "source": [
    "Now we will satrt parsing **يارب يشتغل عشان معيطش**"
   ]
  },
  {
   "cell_type": "code",
   "execution_count": 14,
   "metadata": {},
   "outputs": [],
   "source": [
    "df = df.apply(modifyDayType,axis=1)"
   ]
  },
  {
   "cell_type": "code",
   "execution_count": 15,
   "metadata": {},
   "outputs": [
    {
     "data": {
      "text/plain": [
       "array(['Normal', 'Before_Holiday', 'Holiday'], dtype=object)"
      ]
     },
     "execution_count": 15,
     "metadata": {},
     "output_type": "execute_result"
    }
   ],
   "source": [
    "df['DAY_TYPE'].unique()"
   ]
  },
  {
   "cell_type": "markdown",
   "metadata": {},
   "source": [
    "**<span style=\"color:GREEN\">IT FINALLY WORKEDDDDDDDDDDDDDDDDDDDDDDDDDDDDDDDDD :></span>** "
   ]
  },
  {
   "cell_type": "code",
   "execution_count": 16,
   "metadata": {},
   "outputs": [
    {
     "data": {
      "text/plain": [
       "DAY_TYPE\n",
       "Normal            1613820\n",
       "Before_Holiday      49997\n",
       "Holiday             46692\n",
       "Name: count, dtype: int64"
      ]
     },
     "execution_count": 16,
     "metadata": {},
     "output_type": "execute_result"
    }
   ],
   "source": [
    "df['DAY_TYPE'].value_counts()"
   ]
  },
  {
   "cell_type": "code",
   "execution_count": 17,
   "metadata": {},
   "outputs": [
    {
     "data": {
      "text/plain": [
       "TRIP_ID         1710509\n",
       "CALL_TYPE       1710509\n",
       "ORIGIN_CALL      364765\n",
       "ORIGIN_STAND     806561\n",
       "TAXI_ID         1710509\n",
       "TIMESTAMP       1710509\n",
       "DAY_TYPE        1710509\n",
       "MISSING_DATA    1710509\n",
       "POLYLINE        1710509\n",
       "datetime        1710509\n",
       "dtype: int64"
      ]
     },
     "execution_count": 17,
     "metadata": {},
     "output_type": "execute_result"
    }
   ],
   "source": [
    "df.count()"
   ]
  },
  {
   "cell_type": "markdown",
   "metadata": {},
   "source": [
    "# Dealing with polylines 🥲🫢\n",
    "We can just delete all the data with missing coordinates, but where is the fun in that huh?\n",
    "\n",
    "`To reach the light, you must first go through the darkness.`"
   ]
  },
  {
   "cell_type": "code",
   "execution_count": 18,
   "metadata": {},
   "outputs": [],
   "source": [
    "import ast\n",
    "from math import radians, cos, sin, asin, sqrt\n",
    "\n",
    "def haversine(coord1, coord2): # This algorithm is responsible for accurately calcualting the distance between two points\n",
    "    lon1, lat1 = coord1\n",
    "    lon2, lat2 = coord2\n",
    "    lon1, lat1, lon2, lat2 = map(radians, [lon1, lat1, lon2, lat2])\n",
    "    dlon = lon2 - lon1 \n",
    "    dlat = lat2 - lat1 \n",
    "    a = sin(dlat/2)**2 + cos(lat1) * cos(lat2) * sin(dlon/2)**2\n",
    "    c = 2 * asin(sqrt(a)) \n",
    "    km = 6371 * c\n",
    "    return km\n",
    "\n",
    "def interpolate_coords(coord1, coord2, num_points):\n",
    "    lon1, lat1 = coord1\n",
    "    lon2, lat2 = coord2\n",
    "    lons = [lon1 + i*(lon2 - lon1)/(num_points+1) for i in range(1, num_points+1)]\n",
    "    lats = [lat1 + i*(lat2 - lat1)/(num_points+1) for i in range(1, num_points+1)]\n",
    "    return list(zip(lons, lats))\n",
    "\n",
    "def calculate_total_distance(polyline):\n",
    "    total_distance = 0\n",
    "    for i in range(1, len(polyline)):\n",
    "        total_distance += haversine(polyline[i-1], polyline[i])\n",
    "    return total_distance\n",
    "\n",
    "def calculate_time(polyline):\n",
    "    total_time_minutes = 15 * (len(polyline) - 1)  / 60\n",
    "    return total_time_minutes \n",
    "\n"
   ]
  },
  {
   "cell_type": "code",
   "execution_count": 19,
   "metadata": {},
   "outputs": [],
   "source": [
    "def interpolate_polyline(polyline, threshold_km=1.5, max_interp_points=3):  #A function that will apply the interpolation to the polylines\n",
    "    if len(polyline) < 2:\n",
    "        return polyline\n",
    "    \n",
    "    fixed_polyline = [polyline[0]]\n",
    "    \n",
    "    for i in range(1, len(polyline)):\n",
    "        prev = polyline[i-1]\n",
    "        curr = polyline[i]\n",
    "        dist = haversine(prev, curr)\n",
    "        \n",
    "        if dist > threshold_km:\n",
    "            num_interp = min(int(dist // threshold_km), max_interp_points)\n",
    "            new_points = interpolate_coords(prev, curr, num_interp)\n",
    "            fixed_polyline.extend(new_points)\n",
    "        \n",
    "        fixed_polyline.append(curr)\n",
    "    \n",
    "    return fixed_polyline\n"
   ]
  },
  {
   "cell_type": "markdown",
   "metadata": {},
   "source": [
    "# Parse the string literal to a list\n"
   ]
  },
  {
   "cell_type": "code",
   "execution_count": 20,
   "metadata": {},
   "outputs": [
    {
     "data": {
      "text/plain": [
       "0          [[-8.618643, 41.141412], [-8.618499, 41.141376...\n",
       "1          [[-8.639847, 41.159826], [-8.640351, 41.159871...\n",
       "2          [[-8.612964, 41.140359], [-8.613378, 41.14035]...\n",
       "3          [[-8.574678, 41.151951], [-8.574705, 41.151942...\n",
       "4          [[-8.645994, 41.18049], [-8.645949, 41.180517]...\n",
       "                                 ...                        \n",
       "1710665    [[-8.612469, 41.14602], [-8.612487, 41.145993]...\n",
       "1710666    [[-8.610138, 41.140845], [-8.610174, 41.140935...\n",
       "1710667                                                   []\n",
       "1710668    [[-8.630712, 41.154885], [-8.63073, 41.154813]...\n",
       "1710669    [[-8.615538, 41.140629], [-8.615421, 41.140746...\n",
       "Name: POLYLINE_PARSED, Length: 1710509, dtype: object"
      ]
     },
     "execution_count": 20,
     "metadata": {},
     "output_type": "execute_result"
    }
   ],
   "source": [
    "# tempdf = df[df['MISSING_DATA'] == False]\n",
    "\n",
    "import ast\n",
    "\n",
    "df['POLYLINE_PARSED'] = df['POLYLINE'].apply(ast.literal_eval)\n",
    "\n",
    "df['POLYLINE_PARSED']"
   ]
  },
  {
   "cell_type": "markdown",
   "metadata": {},
   "source": [
    "# How can we determine the best threshold?\n",
    "We can check the average speed in the complete polylines which will then determine the best threshold possible"
   ]
  },
  {
   "cell_type": "code",
   "execution_count": 43,
   "metadata": {},
   "outputs": [
    {
     "name": "stderr",
     "output_type": "stream",
     "text": [
      "C:\\Users\\mahmo\\AppData\\Local\\Temp\\ipykernel_17684\\1191595582.py:9: SettingWithCopyWarning: \n",
      "A value is trying to be set on a copy of a slice from a DataFrame.\n",
      "Try using .loc[row_indexer,col_indexer] = value instead\n",
      "\n",
      "See the caveats in the documentation: https://pandas.pydata.org/pandas-docs/stable/user_guide/indexing.html#returning-a-view-versus-a-copy\n",
      "  tempdf['Distance_KM'] = tempdf['POLYLINE_PARSED'].apply(calculate_total_distance)\n"
     ]
    },
    {
     "data": {
      "text/plain": [
       "0           2.651048\n",
       "1           3.456269\n",
       "2          17.630449\n",
       "3           7.968045\n",
       "4           4.814326\n",
       "             ...    \n",
       "1710665     3.167711\n",
       "1710666     3.831302\n",
       "1710667     0.000000\n",
       "1710668     5.329785\n",
       "1710669     2.210153\n",
       "Name: Distance_KM, Length: 1710499, dtype: float64"
      ]
     },
     "execution_count": 43,
     "metadata": {},
     "output_type": "execute_result"
    }
   ],
   "source": [
    "tempdf = df[df['MISSING_DATA'] == False]\n",
    "\n",
    "# def calcAll(polyLine):\n",
    "#      time = calculate_time(polyLine)\n",
    "#      distance = calculate_total_distance(polyLine)\n",
    "#      speed = distance/time\n",
    "#      return distance,time,speed\n",
    "\n",
    "tempdf['Distance_KM'] = tempdf['POLYLINE_PARSED'].apply(calculate_total_distance)\n",
    "\n",
    "\n",
    "tempdf['Distance_KM']\n"
   ]
  },
  {
   "cell_type": "code",
   "execution_count": 22,
   "metadata": {},
   "outputs": [
    {
     "data": {
      "text/plain": [
       "count    1.710499e+06\n",
       "mean     5.505904e+00\n",
       "std      7.780071e+00\n",
       "min      0.000000e+00\n",
       "25%      2.370669e+00\n",
       "50%      3.936677e+00\n",
       "75%      6.541078e+00\n",
       "max      1.229270e+03\n",
       "Name: Distance_KM, dtype: float64"
      ]
     },
     "execution_count": 22,
     "metadata": {},
     "output_type": "execute_result"
    }
   ],
   "source": [
    "tempdf['Distance_KM'].describe()"
   ]
  },
  {
   "cell_type": "markdown",
   "metadata": {},
   "source": [
    "# Investigate distances that are 0"
   ]
  },
  {
   "cell_type": "code",
   "execution_count": 23,
   "metadata": {},
   "outputs": [
    {
     "data": {
      "text/plain": [
       "36619"
      ]
     },
     "execution_count": 23,
     "metadata": {},
     "output_type": "execute_result"
    }
   ],
   "source": [
    "len(tempdf[tempdf['Distance_KM'] == 0])"
   ]
  },
  {
   "cell_type": "markdown",
   "metadata": {},
   "source": [
    "# Prune them"
   ]
  },
  {
   "cell_type": "code",
   "execution_count": 44,
   "metadata": {},
   "outputs": [
    {
     "data": {
      "text/plain": [
       "0"
      ]
     },
     "execution_count": 44,
     "metadata": {},
     "output_type": "execute_result"
    }
   ],
   "source": [
    "tempdf = tempdf[tempdf['Distance_KM'] != 0]\n",
    "\n",
    "len(tempdf[tempdf['Distance_KM'] == 0])"
   ]
  },
  {
   "cell_type": "markdown",
   "metadata": {},
   "source": [
    "# There is clearly an outlier which we need to deal with first\n",
    "\n",
    "Let's visualise it first"
   ]
  },
  {
   "cell_type": "code",
   "execution_count": 25,
   "metadata": {},
   "outputs": [
    {
     "data": {
      "image/png": "[encoded data removed]",
      "text/plain": [
       "<Figure size 1200x500 with 2 Axes>"
      ]
     },
     "metadata": {},
     "output_type": "display_data"
    }
   ],
   "source": [
    "import matplotlib.pyplot as plt\n",
    "\n",
    "plt.figure(figsize=(12, 5))\n",
    "\n",
    "distances_km = tempdf['Distance_KM']\n",
    "# Boxplot\n",
    "plt.subplot(1, 2, 1)\n",
    "plt.boxplot(distances_km, vert=False)\n",
    "plt.title(\"Boxplot of Distances (KM)\")\n",
    "plt.xlabel(\"Distance (KM)\")\n",
    "\n",
    "# Scatter plot\n",
    "plt.subplot(1, 2, 2)\n",
    "plt.scatter(range(len(distances_km)), distances_km, color='skyblue')\n",
    "plt.title(\"Distance Scatter Plot\")\n",
    "plt.xlabel(\"Index\")\n",
    "plt.ylabel(\"Distance (KM)\")\n",
    "\n",
    "# # Highlight values greater than a threshold as outliers (you can adjust this)\n",
    "# threshold = distances_km.mean() + 3 * distances_km.std()\n",
    "# for i, value in enumerate(distances_km):\n",
    "#     if value > threshold:\n",
    "#         plt.scatter(i, value, color='red')\n",
    "#         plt.text(i, value + 20, f\"{value:.2f} km\", color='red', ha='center')\n",
    "\n",
    "plt.tight_layout()\n",
    "plt.show()"
   ]
  },
  {
   "cell_type": "markdown",
   "metadata": {},
   "source": [
    "# Using IQR for efficiency and fast parsing"
   ]
  },
  {
   "cell_type": "code",
   "execution_count": 50,
   "metadata": {},
   "outputs": [
    {
     "data": {
      "text/plain": [
       "count    1.472634e+06\n",
       "mean     4.035019e+00\n",
       "std      2.272713e+00\n",
       "min      7.526261e-04\n",
       "25%      2.296580e+00\n",
       "50%      3.606008e+00\n",
       "75%      5.385555e+00\n",
       "max      1.031582e+01\n",
       "Name: Distance_KM, dtype: float64"
      ]
     },
     "execution_count": 50,
     "metadata": {},
     "output_type": "execute_result"
    }
   ],
   "source": [
    "Q1 = distances_km.quantile(0.25)\n",
    "Q3 = distances_km.quantile(0.75)\n",
    "IQR = Q3 - Q1\n",
    "\n",
    "lower_bound = Q1 - 1.5 * IQR\n",
    "upper_bound = Q3 + 1.5 * IQR\n",
    "\n",
    "\n",
    "tempdf = tempdf[(tempdf['Distance_KM'] >= lower_bound) & (tempdf['Distance_KM'] <= upper_bound) ]\n",
    "\n",
    "tempdf['Distance_KM'].describe()"
   ]
  },
  {
   "cell_type": "markdown",
   "metadata": {},
   "source": [
    "# Visualize again"
   ]
  },
  {
   "cell_type": "code",
   "execution_count": 48,
   "metadata": {},
   "outputs": [
    {
     "data": {
      "image/png": "[encoded data removed]",
      "text/plain": [
       "<Figure size 1200x500 with 2 Axes>"
      ]
     },
     "metadata": {},
     "output_type": "display_data"
    }
   ],
   "source": [
    "plt.figure(figsize=(12, 5))\n",
    "\n",
    "distances_km = tempdf['Distance_KM']\n",
    "# Boxplot\n",
    "plt.subplot(1, 2, 1)\n",
    "plt.boxplot(distances_km, vert=False)\n",
    "plt.title(\"Boxplot of Distances (KM)\")\n",
    "plt.xlabel(\"Distance (KM)\")\n",
    "\n",
    "# Scatter plot\n",
    "plt.subplot(1, 2, 2)\n",
    "plt.scatter(range(len(distances_km)), distances_km, color='skyblue')\n",
    "plt.title(\"Distance Scatter Plot\")\n",
    "plt.xlabel(\"Index\")\n",
    "plt.ylabel(\"Distance (KM)\")\n",
    "\n",
    "# # Highlight values greater than a threshold as outliers (you can adjust this)\n",
    "# threshold = distances_km.mean() + 3 * distances_km.std()\n",
    "# for i, value in enumerate(distances_km):\n",
    "#     if value > threshold:\n",
    "#         plt.scatter(i, value, color='red')\n",
    "#         plt.text(i, value + 20, f\"{value:.2f} km\", color='red', ha='center')\n",
    "\n",
    "plt.tight_layout()\n",
    "plt.show()"
   ]
  },
  {
   "cell_type": "code",
   "execution_count": 28,
   "metadata": {},
   "outputs": [
    {
     "data": {
      "text/html": [
       "<div>\n",
       "<style scoped>\n",
       "    .dataframe tbody tr th:only-of-type {\n",
       "        vertical-align: middle;\n",
       "    }\n",
       "\n",
       "    .dataframe tbody tr th {\n",
       "        vertical-align: top;\n",
       "    }\n",
       "\n",
       "    .dataframe thead th {\n",
       "        text-align: right;\n",
       "    }\n",
       "</style>\n",
       "<table border=\"1\" class=\"dataframe\">\n",
       "  <thead>\n",
       "    <tr style=\"text-align: right;\">\n",
       "      <th></th>\n",
       "      <th>TRIP_ID</th>\n",
       "      <th>CALL_TYPE</th>\n",
       "      <th>ORIGIN_CALL</th>\n",
       "      <th>ORIGIN_STAND</th>\n",
       "      <th>TAXI_ID</th>\n",
       "      <th>TIMESTAMP</th>\n",
       "      <th>DAY_TYPE</th>\n",
       "      <th>MISSING_DATA</th>\n",
       "      <th>POLYLINE</th>\n",
       "      <th>datetime</th>\n",
       "      <th>POLYLINE_PARSED</th>\n",
       "      <th>Distance_KM</th>\n",
       "    </tr>\n",
       "  </thead>\n",
       "  <tbody>\n",
       "    <tr>\n",
       "      <th>25</th>\n",
       "      <td>1372639092620000233</td>\n",
       "      <td>Street</td>\n",
       "      <td>NaN</td>\n",
       "      <td>NaN</td>\n",
       "      <td>20000233</td>\n",
       "      <td>1372639092</td>\n",
       "      <td>Normal</td>\n",
       "      <td>False</td>\n",
       "      <td>[[-8.632737,41.168295],[-8.6328,41.16825],[-8....</td>\n",
       "      <td>2013-07-01 00:38:12</td>\n",
       "      <td>[[-8.632737, 41.168295], [-8.6328, 41.16825], ...</td>\n",
       "      <td>0.024788</td>\n",
       "    </tr>\n",
       "    <tr>\n",
       "      <th>68</th>\n",
       "      <td>1372637926620000173</td>\n",
       "      <td>Street</td>\n",
       "      <td>NaN</td>\n",
       "      <td>NaN</td>\n",
       "      <td>20000173</td>\n",
       "      <td>1372637926</td>\n",
       "      <td>Normal</td>\n",
       "      <td>False</td>\n",
       "      <td>[[-8.642133,41.173335],[-8.64081,41.172831]]</td>\n",
       "      <td>2013-07-01 00:18:46</td>\n",
       "      <td>[[-8.642133, 41.173335], [-8.64081, 41.172831]]</td>\n",
       "      <td>0.124108</td>\n",
       "    </tr>\n",
       "    <tr>\n",
       "      <th>100</th>\n",
       "      <td>1372638513620000473</td>\n",
       "      <td>Central</td>\n",
       "      <td>63882.0</td>\n",
       "      <td>NaN</td>\n",
       "      <td>20000473</td>\n",
       "      <td>1372638513</td>\n",
       "      <td>Normal</td>\n",
       "      <td>False</td>\n",
       "      <td>[[-8.601273,41.181759],[-8.601246,41.181768],[...</td>\n",
       "      <td>2013-07-01 00:28:33</td>\n",
       "      <td>[[-8.601273, 41.181759], [-8.601246, 41.181768...</td>\n",
       "      <td>0.051147</td>\n",
       "    </tr>\n",
       "    <tr>\n",
       "      <th>120</th>\n",
       "      <td>1372642351620000005</td>\n",
       "      <td>Street</td>\n",
       "      <td>NaN</td>\n",
       "      <td>NaN</td>\n",
       "      <td>20000005</td>\n",
       "      <td>1372642351</td>\n",
       "      <td>Normal</td>\n",
       "      <td>False</td>\n",
       "      <td>[[-8.614107,41.149953],[-8.614746,41.14998],[-...</td>\n",
       "      <td>2013-07-01 01:32:31</td>\n",
       "      <td>[[-8.614107, 41.149953], [-8.614746, 41.14998]...</td>\n",
       "      <td>0.693628</td>\n",
       "    </tr>\n",
       "    <tr>\n",
       "      <th>137</th>\n",
       "      <td>1372640078620000333</td>\n",
       "      <td>Street</td>\n",
       "      <td>NaN</td>\n",
       "      <td>NaN</td>\n",
       "      <td>20000333</td>\n",
       "      <td>1372640078</td>\n",
       "      <td>Normal</td>\n",
       "      <td>False</td>\n",
       "      <td>[[-8.599257,41.149161],[-8.598492,41.148387],[...</td>\n",
       "      <td>2013-07-01 00:54:38</td>\n",
       "      <td>[[-8.599257, 41.149161], [-8.598492, 41.148387...</td>\n",
       "      <td>0.523960</td>\n",
       "    </tr>\n",
       "    <tr>\n",
       "      <th>...</th>\n",
       "      <td>...</td>\n",
       "      <td>...</td>\n",
       "      <td>...</td>\n",
       "      <td>...</td>\n",
       "      <td>...</td>\n",
       "      <td>...</td>\n",
       "      <td>...</td>\n",
       "      <td>...</td>\n",
       "      <td>...</td>\n",
       "      <td>...</td>\n",
       "      <td>...</td>\n",
       "      <td>...</td>\n",
       "    </tr>\n",
       "    <tr>\n",
       "      <th>1710603</th>\n",
       "      <td>1404172736620000483</td>\n",
       "      <td>Street</td>\n",
       "      <td>NaN</td>\n",
       "      <td>NaN</td>\n",
       "      <td>20000483</td>\n",
       "      <td>1404172736</td>\n",
       "      <td>Normal</td>\n",
       "      <td>False</td>\n",
       "      <td>[[-8.58609,41.175504],[-8.586351,41.174955],[-...</td>\n",
       "      <td>2014-06-30 23:58:56</td>\n",
       "      <td>[[-8.58609, 41.175504], [-8.586351, 41.174955]...</td>\n",
       "      <td>0.500885</td>\n",
       "    </tr>\n",
       "    <tr>\n",
       "      <th>1710615</th>\n",
       "      <td>1404165476620000243</td>\n",
       "      <td>Street</td>\n",
       "      <td>NaN</td>\n",
       "      <td>NaN</td>\n",
       "      <td>20000243</td>\n",
       "      <td>1404165476</td>\n",
       "      <td>Normal</td>\n",
       "      <td>False</td>\n",
       "      <td>[[-8.5779,41.158674],[-8.577891,41.158683]]</td>\n",
       "      <td>2014-06-30 21:57:56</td>\n",
       "      <td>[[-8.5779, 41.158674], [-8.577891, 41.158683]]</td>\n",
       "      <td>0.001253</td>\n",
       "    </tr>\n",
       "    <tr>\n",
       "      <th>1710622</th>\n",
       "      <td>1376053063620000981</td>\n",
       "      <td>Street</td>\n",
       "      <td>NaN</td>\n",
       "      <td>NaN</td>\n",
       "      <td>20000981</td>\n",
       "      <td>1376053063</td>\n",
       "      <td>Normal</td>\n",
       "      <td>False</td>\n",
       "      <td>[[-8.623521,41.162454],[-8.623701,41.162697],[...</td>\n",
       "      <td>2013-08-09 12:57:43</td>\n",
       "      <td>[[-8.623521, 41.162454], [-8.623701, 41.162697...</td>\n",
       "      <td>0.035192</td>\n",
       "    </tr>\n",
       "    <tr>\n",
       "      <th>1710648</th>\n",
       "      <td>1404171548620000364</td>\n",
       "      <td>Street</td>\n",
       "      <td>NaN</td>\n",
       "      <td>NaN</td>\n",
       "      <td>20000364</td>\n",
       "      <td>1404171548</td>\n",
       "      <td>Normal</td>\n",
       "      <td>False</td>\n",
       "      <td>[[-8.614323,41.123385],[-8.614152,41.123385],[...</td>\n",
       "      <td>2014-06-30 23:39:08</td>\n",
       "      <td>[[-8.614323, 41.123385], [-8.614152, 41.123385...</td>\n",
       "      <td>0.086794</td>\n",
       "    </tr>\n",
       "    <tr>\n",
       "      <th>1710663</th>\n",
       "      <td>1388660427620000585</td>\n",
       "      <td>Street</td>\n",
       "      <td>NaN</td>\n",
       "      <td>NaN</td>\n",
       "      <td>20000585</td>\n",
       "      <td>1388660427</td>\n",
       "      <td>Normal</td>\n",
       "      <td>False</td>\n",
       "      <td>[[-8.60697,41.162283],[-8.60697,41.16231],[-8....</td>\n",
       "      <td>2014-01-02 11:00:27</td>\n",
       "      <td>[[-8.60697, 41.162283], [-8.60697, 41.16231], ...</td>\n",
       "      <td>0.839417</td>\n",
       "    </tr>\n",
       "  </tbody>\n",
       "</table>\n",
       "<p>60789 rows × 12 columns</p>\n",
       "</div>"
      ],
      "text/plain": [
       "                     TRIP_ID CALL_TYPE  ORIGIN_CALL  ORIGIN_STAND   TAXI_ID  \\\n",
       "25       1372639092620000233    Street          NaN           NaN  20000233   \n",
       "68       1372637926620000173    Street          NaN           NaN  20000173   \n",
       "100      1372638513620000473   Central      63882.0           NaN  20000473   \n",
       "120      1372642351620000005    Street          NaN           NaN  20000005   \n",
       "137      1372640078620000333    Street          NaN           NaN  20000333   \n",
       "...                      ...       ...          ...           ...       ...   \n",
       "1710603  1404172736620000483    Street          NaN           NaN  20000483   \n",
       "1710615  1404165476620000243    Street          NaN           NaN  20000243   \n",
       "1710622  1376053063620000981    Street          NaN           NaN  20000981   \n",
       "1710648  1404171548620000364    Street          NaN           NaN  20000364   \n",
       "1710663  1388660427620000585    Street          NaN           NaN  20000585   \n",
       "\n",
       "          TIMESTAMP DAY_TYPE  MISSING_DATA  \\\n",
       "25       1372639092   Normal         False   \n",
       "68       1372637926   Normal         False   \n",
       "100      1372638513   Normal         False   \n",
       "120      1372642351   Normal         False   \n",
       "137      1372640078   Normal         False   \n",
       "...             ...      ...           ...   \n",
       "1710603  1404172736   Normal         False   \n",
       "1710615  1404165476   Normal         False   \n",
       "1710622  1376053063   Normal         False   \n",
       "1710648  1404171548   Normal         False   \n",
       "1710663  1388660427   Normal         False   \n",
       "\n",
       "                                                  POLYLINE  \\\n",
       "25       [[-8.632737,41.168295],[-8.6328,41.16825],[-8....   \n",
       "68            [[-8.642133,41.173335],[-8.64081,41.172831]]   \n",
       "100      [[-8.601273,41.181759],[-8.601246,41.181768],[...   \n",
       "120      [[-8.614107,41.149953],[-8.614746,41.14998],[-...   \n",
       "137      [[-8.599257,41.149161],[-8.598492,41.148387],[...   \n",
       "...                                                    ...   \n",
       "1710603  [[-8.58609,41.175504],[-8.586351,41.174955],[-...   \n",
       "1710615        [[-8.5779,41.158674],[-8.577891,41.158683]]   \n",
       "1710622  [[-8.623521,41.162454],[-8.623701,41.162697],[...   \n",
       "1710648  [[-8.614323,41.123385],[-8.614152,41.123385],[...   \n",
       "1710663  [[-8.60697,41.162283],[-8.60697,41.16231],[-8....   \n",
       "\n",
       "                   datetime  \\\n",
       "25      2013-07-01 00:38:12   \n",
       "68      2013-07-01 00:18:46   \n",
       "100     2013-07-01 00:28:33   \n",
       "120     2013-07-01 01:32:31   \n",
       "137     2013-07-01 00:54:38   \n",
       "...                     ...   \n",
       "1710603 2014-06-30 23:58:56   \n",
       "1710615 2014-06-30 21:57:56   \n",
       "1710622 2013-08-09 12:57:43   \n",
       "1710648 2014-06-30 23:39:08   \n",
       "1710663 2014-01-02 11:00:27   \n",
       "\n",
       "                                           POLYLINE_PARSED  Distance_KM  \n",
       "25       [[-8.632737, 41.168295], [-8.6328, 41.16825], ...     0.024788  \n",
       "68         [[-8.642133, 41.173335], [-8.64081, 41.172831]]     0.124108  \n",
       "100      [[-8.601273, 41.181759], [-8.601246, 41.181768...     0.051147  \n",
       "120      [[-8.614107, 41.149953], [-8.614746, 41.14998]...     0.693628  \n",
       "137      [[-8.599257, 41.149161], [-8.598492, 41.148387...     0.523960  \n",
       "...                                                    ...          ...  \n",
       "1710603  [[-8.58609, 41.175504], [-8.586351, 41.174955]...     0.500885  \n",
       "1710615     [[-8.5779, 41.158674], [-8.577891, 41.158683]]     0.001253  \n",
       "1710622  [[-8.623521, 41.162454], [-8.623701, 41.162697...     0.035192  \n",
       "1710648  [[-8.614323, 41.123385], [-8.614152, 41.123385...     0.086794  \n",
       "1710663  [[-8.60697, 41.162283], [-8.60697, 41.16231], ...     0.839417  \n",
       "\n",
       "[60789 rows x 12 columns]"
      ]
     },
     "execution_count": 28,
     "metadata": {},
     "output_type": "execute_result"
    }
   ],
   "source": [
    "tempdf[tempdf['Distance_KM'] < 1] #Very short trips won't be pruned"
   ]
  },
  {
   "cell_type": "markdown",
   "metadata": {},
   "source": [
    "# Calcualte time"
   ]
  },
  {
   "cell_type": "code",
   "execution_count": 55,
   "metadata": {},
   "outputs": [
    {
     "data": {
      "text/plain": [
       "count    1.472634e+06\n",
       "mean     1.047830e+01\n",
       "std      6.343774e+00\n",
       "min      2.500000e-01\n",
       "25%      6.500000e+00\n",
       "50%      9.500000e+00\n",
       "75%      1.300000e+01\n",
       "max      3.097500e+02\n",
       "Name: Trip_duration_mins, dtype: float64"
      ]
     },
     "execution_count": 55,
     "metadata": {},
     "output_type": "execute_result"
    }
   ],
   "source": [
    "tempdf['Trip_duration_mins'] = tempdf['POLYLINE_PARSED'].apply(calculate_time)\n",
    "\n",
    "tempdf['Trip_duration_mins'].describe()"
   ]
  },
  {
   "cell_type": "markdown",
   "metadata": {},
   "source": [
    "# Prune outliers "
   ]
  },
  {
   "cell_type": "code",
   "execution_count": null,
   "metadata": {},
   "outputs": [
    {
     "data": {
      "text/plain": [
       "count    1.427376e+06\n",
       "mean     9.796771e+00\n",
       "std      4.555477e+00\n",
       "min      2.500000e-01\n",
       "25%      6.500000e+00\n",
       "50%      9.250000e+00\n",
       "75%      1.250000e+01\n",
       "max      2.325000e+01\n",
       "Name: Trip_duration_mins, dtype: float64"
      ]
     },
     "execution_count": 64,
     "metadata": {},
     "output_type": "execute_result"
    }
   ],
   "source": [
    "Q1 = tempdf['Trip_duration_mins'].quantile(0.25)\n",
    "Q3 = tempdf['Trip_duration_mins'].quantile(0.75)\n",
    "IQR = Q3 - Q1\n",
    "\n",
    "lower_bound = Q1 - 1.5 * IQR #Some trips might be long and that is okay but here we are focusing on the mean so i will delete most long trips to get a good average\n",
    "upper_bound = Q3 + 1.6 * IQR\n",
    "\n",
    "\n",
    "pruned = tempdf[(tempdf['Trip_duration_mins'] >= lower_bound) & (tempdf['Trip_duration_mins'] <= upper_bound) ]\n",
    "\n",
    "pruned['Trip_duration_mins'].describe()"
   ]
  },
  {
   "cell_type": "code",
   "execution_count": 66,
   "metadata": {},
   "outputs": [
    {
     "data": {
      "image/png": "[encoded data removed]",
      "text/plain": [
       "<Figure size 1200x500 with 2 Axes>"
      ]
     },
     "metadata": {},
     "output_type": "display_data"
    }
   ],
   "source": [
    "plt.figure(figsize=(12, 5))\n",
    "\n",
    "Trip_duration_mins = pruned['Trip_duration_mins']\n",
    "# Boxplot\n",
    "plt.subplot(1, 2, 1)\n",
    "plt.boxplot(Trip_duration_mins, vert=False)\n",
    "plt.title(\"Boxplot of time (mins)\")\n",
    "plt.xlabel(\"time (mins)\")\n",
    "\n",
    "# Scatter plot\n",
    "plt.subplot(1, 2, 2)\n",
    "plt.scatter(range(len(Trip_duration_mins)), Trip_duration_mins, color='skyblue')\n",
    "plt.title(\"time Scatter Plot\")\n",
    "plt.xlabel(\"Index\")\n",
    "plt.ylabel(\"time (mins)\")\n",
    "\n",
    "plt.tight_layout()\n",
    "plt.show()"
   ]
  },
  {
   "cell_type": "markdown",
   "metadata": {},
   "source": [
    "# Claculae speed"
   ]
  },
  {
   "cell_type": "code",
   "execution_count": 69,
   "metadata": {},
   "outputs": [
    {
     "name": "stderr",
     "output_type": "stream",
     "text": [
      "C:\\Users\\mahmo\\AppData\\Local\\Temp\\ipykernel_17684\\2434682818.py:1: SettingWithCopyWarning: \n",
      "A value is trying to be set on a copy of a slice from a DataFrame.\n",
      "Try using .loc[row_indexer,col_indexer] = value instead\n",
      "\n",
      "See the caveats in the documentation: https://pandas.pydata.org/pandas-docs/stable/user_guide/indexing.html#returning-a-view-versus-a-copy\n",
      "  pruned['Speed_KPH'] = pruned['Distance_KM'] / (pruned['Trip_duration_mins'] / 60)\n"
     ]
    },
    {
     "data": {
      "text/plain": [
       "count    1.427376e+06\n",
       "mean     2.502298e+01\n",
       "std      1.368460e+01\n",
       "min      3.615415e-02\n",
       "25%      1.773912e+01\n",
       "50%      2.298847e+01\n",
       "75%      2.989199e+01\n",
       "max      1.638935e+03\n",
       "Name: Speed_KPH, dtype: float64"
      ]
     },
     "execution_count": 69,
     "metadata": {},
     "output_type": "execute_result"
    }
   ],
   "source": [
    "pruned['Speed_KPH'] = pruned['Distance_KM'] / (pruned['Trip_duration_mins'] / 60)\n",
    "\n",
    "pruned['Speed_KPH'].describe()"
   ]
  },
  {
   "cell_type": "markdown",
   "metadata": {},
   "source": [
    "# Insights\n",
    "The average speed of a trip is around 30 this number will help us in calcuating the interpolition line in the missing data\n",
    "\n",
    "`All of this just for getting the mean of the speed, I might as well just KMS🥲`\n",
    "\n",
    "\n",
    "**Don't forget to delte useless variavles that are no longer needed**"
   ]
  },
  {
   "cell_type": "code",
   "execution_count": 72,
   "metadata": {},
   "outputs": [
    {
     "data": {
      "text/plain": [
       "63579"
      ]
     },
     "execution_count": 72,
     "metadata": {},
     "output_type": "execute_result"
    }
   ],
   "source": [
    "import gc\n",
    "# del tempdf, pruned, upper_bound, lower_bound, distances_km, Trip_duration_mins\n",
    "gc.collect()"
   ]
  }
 ],
 "metadata": {
  "kernelspec": {
   "display_name": "base",
   "language": "python",
   "name": "python3"
  },
  "language_info": {
   "codemirror_mode": {
    "name": "ipython",
    "version": 3
   },
   "file_extension": ".py",
   "mimetype": "text/x-python",
   "name": "python",
   "nbconvert_exporter": "python",
   "pygments_lexer": "ipython3",
   "version": "3.12.7"
  }
 },
 "nbformat": 4,
 "nbformat_minor": 2
}
